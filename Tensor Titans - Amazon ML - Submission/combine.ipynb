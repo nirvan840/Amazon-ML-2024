{
 "cells": [
  {
   "cell_type": "markdown",
   "metadata": {},
   "source": [
    "## Code to combine two halfes of CSV files"
   ]
  },
  {
   "cell_type": "code",
   "execution_count": 14,
   "metadata": {},
   "outputs": [
    {
     "name": "stderr",
     "output_type": "stream",
     "text": [
      "100%|██████████| 131187/131187 [03:42<00:00, 590.52it/s]\n"
     ]
    }
   ],
   "source": [
    "from tqdm import tqdm\n",
    "import pandas as pd\n",
    "\n",
    "# Load both CSV files\n",
    "csv_file1 = 'test_original.csv'\n",
    "csv_file2 = 'test_priyansh_full.csv'\n",
    "df1 = pd.read_csv(csv_file1)\n",
    "df2 = pd.read_csv(csv_file2)\n",
    "\n",
    "# Create a new DataFrame to store results\n",
    "result_df = pd.DataFrame(columns=['index', 'prediction'])\n",
    "\n",
    "# Debug \n",
    "debug = False\n",
    "\n",
    "# Iterate over all rows\n",
    "for index, (row1, row2) in tqdm(enumerate(zip(df1.itertuples(), df2.itertuples())), total=len(df1)):\n",
    "\n",
    "    # Skipping initial rows\n",
    "    # if index <= 65593: continue\n",
    "    \n",
    "    # Original Amazon index\n",
    "    index_amazon = getattr(row1, 'index')\n",
    "    index_amazon = int(index_amazon)\n",
    "\n",
    "    # Check the 'entity_value' column in both file\n",
    "    entity_value1 = getattr(row1, 'prediction')\n",
    "    entity_value2 = getattr(row2, 'prediction')\n",
    "    \n",
    "    # If entity_value1 is not empty, use it; otherwise use entity_value2\n",
    "    if any(char.isdigit() for char in str(entity_value1)):\n",
    "        prediction = entity_value1\n",
    "    else:\n",
    "        if entity_value2 == ' ': entity_value2 = \"\"\n",
    "        prediction = entity_value2\n",
    "    \n",
    "    # DEBUG \n",
    "    if debug:\n",
    "        print(index)\n",
    "        print(\"entity_value1: \", entity_value1)\n",
    "        print(\"entity_value2: \", entity_value2)\n",
    "        print(\"prediction: \", prediction)\n",
    "        print(\"\")\n",
    "\n",
    "    # Append to the result dataframe\n",
    "    result_df = result_df.append({'index': index_amazon, 'prediction': prediction}, ignore_index=True)\n",
    "\n",
    "    # Testing\n",
    "    # if index == 100: break\n",
    "\n",
    "# Save the result to a new CSV file\n",
    "result_df.to_csv('test_FINAL_full.csv', index=False)"
   ]
  }
 ],
 "metadata": {
  "kernelspec": {
   "display_name": "Python 3",
   "language": "python",
   "name": "python3"
  },
  "language_info": {
   "codemirror_mode": {
    "name": "ipython",
    "version": 3
   },
   "file_extension": ".py",
   "mimetype": "text/x-python",
   "name": "python",
   "nbconvert_exporter": "python",
   "pygments_lexer": "ipython3",
   "version": "3.9.7"
  }
 },
 "nbformat": 4,
 "nbformat_minor": 2
}
