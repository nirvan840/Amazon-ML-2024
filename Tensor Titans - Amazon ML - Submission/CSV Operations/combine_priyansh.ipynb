{
 "cells": [
  {
   "cell_type": "markdown",
   "metadata": {},
   "source": [
    "## Code to prepare final .csv file"
   ]
  },
  {
   "cell_type": "code",
   "execution_count": 10,
   "metadata": {},
   "outputs": [
    {
     "name": "stderr",
     "output_type": "stream",
     "text": [
      "100%|██████████| 131187/131187 [05:00<00:00, 436.61it/s]\n"
     ]
    }
   ],
   "source": [
    "from tqdm import tqdm\n",
    "import pandas as pd\n",
    "\n",
    "# Load both CSV files\n",
    "csv_file1 = 'test_FINAL_203AM_v2.csv'\n",
    "csv_file2 = 'updated_depth_322AM.csv'\n",
    "csv_file3 = 'updated_height_400AM.csv'\n",
    "csv_priyansh = 'test_priyansh_full_v2.csv'\n",
    "csv_nirvan = '1-56.csv'\n",
    "\n",
    "df1 = pd.read_csv(csv_file1)\n",
    "df2 = pd.read_csv(csv_file2)\n",
    "df3 = pd.read_csv(csv_file3)\n",
    "df4 = pd.read_csv(csv_nirvan)\n",
    "df5 = pd.read_csv(csv_priyansh)\n",
    "\n",
    "# Create a new DataFrame to store results\n",
    "result_df = pd.DataFrame(columns=['index', 'prediction'])\n",
    "\n",
    "# Debug \n",
    "debug = False\n",
    "\n",
    "# Iterate over all rows\n",
    "for index, (row1, row2, row3, row4, row5) in tqdm(enumerate(zip(df1.itertuples(), df2.itertuples(), df3.itertuples(), df4.itertuples(), df5.itertuples())), total=len(df1)):\n",
    "\n",
    "    # Skipping initial rows\n",
    "    # if index <= 16: continue\n",
    "    \n",
    "    # Original amazon index\n",
    "    index_amazon = getattr(row4, 'index')\n",
    "    index_amazon = int(index_amazon)\n",
    "\n",
    "    # Combining .csv\n",
    "    pred1 = getattr(row1, 'prediction')\n",
    "    #pred2 = getattr(row2, 'prediction')\n",
    "    pred3 = getattr(row3, 'prediction')\n",
    "    pred4 = getattr(row5, 'prediction')\n",
    "\n",
    "    # If entity_value1 is not empty, use it; otherwise use entity_value2\n",
    "    prediction = \"\"\n",
    "    if any(char.isdigit() for char in str(pred1)):\n",
    "        if debug: print(\"e1\")\n",
    "        prediction = pred1\n",
    "    # elif any(char.isdigit() for char in str(pred2)):\n",
    "    #     if debug: print(\"e2\")\n",
    "    #     prediction = pred2\n",
    "    elif any(char.isdigit() for char in str(pred3)):\n",
    "        if debug: print(\"e3\")\n",
    "        prediction = pred3\n",
    "    elif any(char.isdigit() for char in str(pred4)):\n",
    "        if debug: print(\"e4\")\n",
    "        prediction = pred4\n",
    "    else: prediction = \"\"\n",
    "    \n",
    "    # DEBUG \n",
    "    if debug:\n",
    "        print(index)\n",
    "        print(\"entity_value1: \", pred1)\n",
    "        #print(\"entity_value2: \", pred2)\n",
    "        #print(\"entity_value2: \", pred3)\n",
    "        print(\"prediction: \", prediction)\n",
    "        print(\"\")\n",
    "\n",
    "    # Append to the result dataframe\n",
    "    result_df = result_df.append({'index': index_amazon, 'prediction': prediction}, ignore_index=True)\n",
    "\n",
    "    # Testing\n",
    "    # if index == 100: break\n",
    "\n",
    "# Save the result to a new CSV file\n",
    "result_df.to_csv('test_FINAL_500AM_onlyHP.csv', index=False)"
   ]
  }
 ],
 "metadata": {
  "kernelspec": {
   "display_name": "Python 3",
   "language": "python",
   "name": "python3"
  },
  "language_info": {
   "codemirror_mode": {
    "name": "ipython",
    "version": 3
   },
   "file_extension": ".py",
   "mimetype": "text/x-python",
   "name": "python",
   "nbconvert_exporter": "python",
   "pygments_lexer": "ipython3",
   "version": "3.9.7"
  }
 },
 "nbformat": 4,
 "nbformat_minor": 2
}
