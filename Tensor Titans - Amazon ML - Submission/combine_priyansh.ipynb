{
 "cells": [
  {
   "cell_type": "markdown",
   "metadata": {},
   "source": [
    "## Code to combine two halfes of CSV files"
   ]
  },
  {
   "cell_type": "code",
   "execution_count": 19,
   "metadata": {},
   "outputs": [
    {
     "name": "stderr",
     "output_type": "stream",
     "text": [
      "100%|██████████| 131187/131187 [05:17<00:00, 413.12it/s]\n"
     ]
    }
   ],
   "source": [
    "from tqdm import tqdm\n",
    "import pandas as pd\n",
    "\n",
    "# Load both CSV files\n",
    "csv_file1 = 'Priyansh/priyansh_1.csv'\n",
    "csv_file2 = 'Priyansh/priyansh_2.csv'\n",
    "csv_file3 = 'Priyansh/priyansh_3.csv'\n",
    "csv_nirvan = 'test_hwd_full.csv'\n",
    "\n",
    "df1 = pd.read_csv(csv_file1)\n",
    "df2 = pd.read_csv(csv_file2)\n",
    "df3 = pd.read_csv(csv_file3)\n",
    "df4 = pd.read_csv(csv_nirvan)\n",
    "\n",
    "# Create a new DataFrame to store results\n",
    "result_df = pd.DataFrame(columns=['index', 'prediction'])\n",
    "\n",
    "# Debug \n",
    "debug = False\n",
    "\n",
    "# Iterate over all rows\n",
    "for index, (row1, row2, row3, row4) in tqdm(enumerate(zip(df1.itertuples(), df2.itertuples(), df3.itertuples(), df4.itertuples())), total=len(df1)):\n",
    "\n",
    "    # Skipping initial rows\n",
    "    # if index <= 16: continue\n",
    "    \n",
    "    # Original amazon index\n",
    "    index_amazon = getattr(row4, 'index')\n",
    "    index_amazon = int(index_amazon)\n",
    "\n",
    "    # Combining .csv\n",
    "    entity_value1 = getattr(row1, 'entity_value')\n",
    "    entity_value2 = getattr(row2, 'entity_value')\n",
    "    entity_value3 = getattr(row3, 'entity_value')\n",
    "\n",
    "    # If entity_value1 is not empty, use it; otherwise use entity_value2\n",
    "    prediction = \"\"\n",
    "    if any(char.isdigit() for char in entity_value1):\n",
    "        if debug: print(\"e1\")\n",
    "        prediction = entity_value1\n",
    "    elif any(char.isdigit() for char in entity_value2): \n",
    "        if debug: print(\"e2\")\n",
    "        prediction = entity_value2\n",
    "    else: \n",
    "        if debug: print(\"e3\")\n",
    "        if entity_value3 == ' ': entity_value3 = \"\"\n",
    "        prediction = entity_value3\n",
    "    \n",
    "    # DEBUG \n",
    "    if debug:\n",
    "        print(index)\n",
    "        print(\"entity_value1: \", entity_value1)\n",
    "        print(\"entity_value2: \", entity_value2)\n",
    "        print(\"entity_value3: \", entity_value3)\n",
    "        print(\"prediction: \", prediction)\n",
    "        print(\"\")\n",
    "\n",
    "    # Append to the result dataframe\n",
    "    result_df = result_df.append({'index': index_amazon, 'prediction': prediction}, ignore_index=True)\n",
    "\n",
    "    # Testing\n",
    "    # if index == 100: break\n",
    "\n",
    "# Save the result to a new CSV file\n",
    "result_df.to_csv('test_priyansh_full.csv', index=False)"
   ]
  }
 ],
 "metadata": {
  "kernelspec": {
   "display_name": "Python 3",
   "language": "python",
   "name": "python3"
  },
  "language_info": {
   "codemirror_mode": {
    "name": "ipython",
    "version": 3
   },
   "file_extension": ".py",
   "mimetype": "text/x-python",
   "name": "python",
   "nbconvert_exporter": "python",
   "pygments_lexer": "ipython3",
   "version": "3.9.7"
  }
 },
 "nbformat": 4,
 "nbformat_minor": 2
}
